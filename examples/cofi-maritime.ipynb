{
 "cells": [
  {
   "cell_type": "markdown",
   "metadata": {},
   "source": [
    "# Implementation of CoFi for marine traffic modeling\n",
    "\n",
    "This notebook showcases how to use Consititional Filters (CoFi) in ProMis to improve modeling of ship movements."
   ]
  },
  {
   "cell_type": "markdown",
   "metadata": {},
   "source": [
    "## Setup"
   ]
  },
  {
   "cell_type": "code",
   "execution_count": 1,
   "metadata": {},
   "outputs": [],
   "source": [
    "# This will auto-relead changed ProMis imports\n",
    "%reload_ext autoreload\n",
    "%autoreload 2"
   ]
  },
  {
   "cell_type": "code",
   "execution_count": 2,
   "metadata": {},
   "outputs": [
    {
     "name": "stdout",
     "output_type": "stream",
     "text": [
      "\u001b[33mWARNING: Running pip as the 'root' user can result in broken permissions and conflicting behaviour with the system package manager. It is recommended to use a virtual environment instead: https://pip.pypa.io/warnings/venv\u001b[0m\u001b[33m\n",
      "\u001b[0m"
     ]
    }
   ],
   "source": [
    "# We need some additional packages\n",
    "!pip install -q svgpath2mpl svgpathtools filterpy keplergl"
   ]
  },
  {
   "cell_type": "code",
   "execution_count": 3,
   "metadata": {},
   "outputs": [],
   "source": [
    "# Standard library\n",
    "import json\n",
    "from copy import copy\n",
    "from math import ceil, isfinite\n",
    "from pathlib import Path\n",
    "from time import monotonic\n",
    "\n",
    "# Math\n",
    "import numpy as np\n",
    "from numpy import array, deg2rad, eye, mean, ndarray, pi, set_printoptions, stack\n",
    "from numpy.random import seed, standard_normal\n",
    "from scipy.stats import norm, uniform\n",
    "\n",
    "# Data Handling\n",
    "import pandas as pd\n",
    "from filterpy.monte_carlo import systematic_resample\n",
    "\n",
    "# Plotting\n",
    "import matplotlib\n",
    "from keplergl import KeplerGl\n",
    "from matplotlib import pyplot as plt\n",
    "from matplotlib.animation import FuncAnimation\n",
    "from matplotlib.transforms import Affine2D\n",
    "from seaborn import move_legend\n",
    "from svgpath2mpl import parse_path\n",
    "from svgpathtools import svg2paths\n",
    "import seaborn as sns\n",
    "\n",
    "# ProMis\n",
    "from promis import ProMis, StaRMap\n",
    "from promis.geo import (\n",
    "    CartesianCollection,\n",
    "    CartesianMap,\n",
    "    CartesianRasterBand,\n",
    "    PolarCollection,\n",
    "    PolarLocation,\n",
    ")\n",
    "from promis.loaders import NauticalChartLoader\n",
    "from promis.logic.spatial import Depth\n"
   ]
  },
  {
   "cell_type": "code",
   "execution_count": 4,
   "metadata": {},
   "outputs": [],
   "source": [
    "# Use full width of juptyer notebook\n",
    "set_printoptions(linewidth=180, formatter={\"float_kind\": \"{:4.6f}\".format})\n",
    "\n",
    "# Make plots look nice in a paper\n",
    "matplotlib.rcParams[\"pdf.fonttype\"] = 42\n",
    "matplotlib.rcParams[\"ps.fonttype\"] = 42\n",
    "\n",
    "sns.set_theme(style=\"ticks\", rc={\"figure.figsize\": (8, 3), \"legend.title_fontsize\": 15})\n",
    "sns.set_style({\"font.family\": \"serif\", \"font.serif\": \"Times New Roman\"})"
   ]
  },
  {
   "cell_type": "markdown",
   "metadata": {},
   "source": [
    "## Define the setting"
   ]
  },
  {
   "cell_type": "code",
   "execution_count": 5,
   "metadata": {},
   "outputs": [],
   "source": [
    "# The format of the bbox is:\n",
    "# (lat, lon) lower left, and then\n",
    "# (lat, lon) upper right\n",
    "\n",
    "setting = \"New York Harbor\"\n",
    "bbox = (\n",
    "    (40.43, -74.08),\n",
    "    (40.70, -73.85),\n",
    ")\n",
    "\n",
    "# setting = \"Port of Charleston, South Carolina\"\n",
    "# bbox = (\n",
    "#     (32.75, -79.97),\n",
    "#     (32.875, -79.87),\n",
    "# )\n",
    "\n",
    "# setting = \"Baltimore\"\n",
    "# bbox = (\n",
    "#     (39.174, -76.6304993),\n",
    "#     (39.29, -76.4495423),\n",
    "# )\n",
    "\n",
    "# setting = \"Port of Virginia (Norfolk)\"\n",
    "# bbox = (\n",
    "#     (36.7711453, -76.4994133),\n",
    "#     (37.3020172, -75.8786833),\n",
    "# )"
   ]
  },
  {
   "cell_type": "code",
   "execution_count": 6,
   "metadata": {},
   "outputs": [],
   "source": [
    "output_folder = Path(\".\") / \"cofi-exports\" / setting\n",
    "output_folder.mkdir(exist_ok=True, parents=True)"
   ]
  },
  {
   "cell_type": "code",
   "execution_count": 7,
   "metadata": {},
   "outputs": [
    {
     "data": {
      "text/plain": [
       "(19516.83034210935, 29982.28762868427)"
      ]
     },
     "execution_count": 7,
     "metadata": {},
     "output_type": "execute_result"
    }
   ],
   "source": [
    "origin = PolarLocation(\n",
    "    latitude=mean([bbox[0][0], bbox[1][0]]), longitude=mean([bbox[0][1], bbox[1][1]])\n",
    ")\n",
    "width = PolarLocation(latitude=bbox[0][0], longitude=bbox[0][1]).distance(\n",
    "    PolarLocation(latitude=bbox[0][0], longitude=bbox[1][1])\n",
    ")\n",
    "height = PolarLocation(latitude=bbox[0][0], longitude=bbox[0][1]).distance(\n",
    "    PolarLocation(latitude=bbox[1][0], longitude=bbox[0][1])\n",
    ")\n",
    "dimensions = width, height\n",
    "dimensions"
   ]
  },
  {
   "cell_type": "code",
   "execution_count": 8,
   "metadata": {},
   "outputs": [],
   "source": [
    "target_resolution = (200, 200)\n",
    "support_resolution = (100, 100)"
   ]
  },
  {
   "cell_type": "markdown",
   "metadata": {},
   "source": [
    "## Load the nautical chart data\n",
    "\n",
    "Like all somewhat time-consuming steps, this only needs to be done once."
   ]
  },
  {
   "cell_type": "code",
   "execution_count": 9,
   "metadata": {},
   "outputs": [
    {
     "name": "stderr",
     "output_type": "stream",
     "text": [
      "Warning 1: Illegal feature attribute id (ATTF:ATTL[0]) of 0\n",
      "on feature FIDN=333478911, FIDS=7311.\n",
      "Skipping attribute. No more warnings will be issued.\n"
     ]
    },
    {
     "name": "stdout",
     "output_type": "stream",
     "text": [
      "Loaded 4760 features\n"
     ]
    }
   ],
   "source": [
    "uam_path = Path(\"nautical_chart_uam.pkl\")\n",
    "\n",
    "if uam_path.exists():\n",
    "    uam = CartesianMap.load(uam_path)\n",
    "\n",
    "else:\n",
    "    loader = NauticalChartLoader(\n",
    "        chart_root=Path(\".\").absolute().parent / \"data\" / \"us_charts-ny\",\n",
    "        origin=origin,\n",
    "        dimensions=dimensions,\n",
    "    )\n",
    "    loader.load(n_jobs=16)\n",
    "\n",
    "    uam = loader.to_cartesian_map()\n",
    "    uam.apply_covariance(20.0 * eye(2))\n",
    "\n",
    "    uam.save(uam_path)\n",
    "\n",
    "print(f\"Loaded {len(uam.features)} features\")"
   ]
  },
  {
   "cell_type": "code",
   "execution_count": 10,
   "metadata": {},
   "outputs": [
    {
     "name": "stdout",
     "output_type": "stream",
     "text": [
      "CartesianPolygon - anchorage: \tUS5NYCCF#0226118FBFB01C82 (Anchor berth (single)): \"G3\"\n",
      "CartesianPolygon - anchorage: \tUS5NYCCF#022602C159BB1C82 (Anchor berth (single)): \"O5\"\n",
      "CartesianPolygon - anchorage: \tUS5NYCCF#022622152D461C82 (Anchor berth (single)): \"K10\"\n",
      "CartesianPolygon - anchorage: \tUS5NYCCF#022608F3C61E1C82 (Anchor berth (single)): \"N6\"\n",
      "CartesianPolygon - anchorage: \tUS5NYCCF#0226242A0CDD1C82 (Anchor berth (single)): \"I6\"\n",
      "CartesianPolygon - anchorage: \tUS5NYCCF#02260B6F82FB1C82 (Anchor berth (single)): \"N8\"\n",
      "CartesianPolygon - anchorage: \tUS5NYCCF#022639479B711C82 (Anchor berth (single)): \"E5\"\n",
      "CartesianPolygon - anchorage: \tUS5NYCCF#02263ABB47F41C82 (Anchor berth (single)): \"M5\"\n",
      "CartesianPolygon - anchorage: \tUS5NYCCF#02261DC124E61C82 (Anchor berth (single)): \"F4\"\n",
      "CartesianPolygon - anchorage: \tUS5NYCCF#02262DB2D5AE1C82 (Anchor berth (single)): \"C9\"\n",
      "CartesianPolygon - anchorage: \tUS5NYCCF#022605EDE0241C82 (Anchor berth (single)): \"P2\"\n",
      "CartesianPolygon - anchorage: \tUS5NYCCF#02263A96014D1C82 (Anchor berth (single)): \"T3\"\n",
      "CartesianPolygon - anchorage: \tUS5NYCCF#0226002428481C82 (Anchor berth (single)): \"C5\"\n",
      "CartesianLocation - obstruction: \tUS5NYCCF#02260220C0F30032 (Buoy (BOYLAT)): \"Craven Shoal Lighted Gong Buoy 23\"\n",
      "CartesianPolygon - water: \tUS5NYCCF#022633543B081940 (Depth=4.0m): \"---\"\n",
      "CartesianPolygon - water: \tUS5NYCCF#02261248779F1C82 (Depth=5.0m): \"---\"\n",
      "CartesianPolygon - water: \tUS5NYCCF#0226391006241C82 (Depth=5.0m): \"---\"\n"
     ]
    }
   ],
   "source": [
    "# Print the some features\n",
    "for feature in uam.features[500:1000:31]:  # Get some diversity\n",
    "    print(f\"{type(feature).__name__} - {feature.location_type}: \\t{feature.name}\")"
   ]
  },
  {
   "cell_type": "markdown",
   "metadata": {},
   "source": [
    "## Prepare the mission landscape"
   ]
  },
  {
   "cell_type": "code",
   "execution_count": 11,
   "metadata": {},
   "outputs": [],
   "source": [
    "logic = r\"\"\"\n",
    "% Background knowledge\n",
    "is_deep(X) :- A is depth(X, water), B is current_draft , A + B < -1, \\+ over(X, land).\n",
    "\n",
    "0.95::is_safe(X) :- is_deep(X), distance(X, land) > 50. %, \\+ over(X, anchorage).\n",
    "\n",
    "bound_to_main_routes :- is_cargo ; is_cargo_hazardous ;\n",
    "    is_tanker ; is_tanker_hazardous ; length > 100.\n",
    "follows_main_routes(X) :- \\+  bound_to_main_routes ; distance(X, water_route) < 400 ;\n",
    "    distance(X, water_route) > 2000.\n",
    "%is_sane_speed(X) :- \\+ over(X, anchorage) ; speed_over_ground < 10.\n",
    "is_legal(X) :- follows_main_routes(X). %, is_sane_speed(X).\n",
    "\n",
    "is_useful(X) :- \\+ is_search_and_rescue_vessels.\n",
    "0.2::is_useful(X) :- is_search_and_rescue_vessels.\n",
    "0.8::is_useful(X) :- is_search_and_rescue_vessels, distance(X, land) < 500.\n",
    "\n",
    "% This rule set does not model all possible bahavioral patterns of ships\n",
    "%0.1::is_ignorant.\n",
    "landscape(X) :- is_safe(X), is_legal(X), is_useful(X). % ; is_ignorant.\n",
    "\"\"\"\n",
    "\n",
    "support = CartesianRasterBand(origin, support_resolution, width, height)\n",
    "target = CartesianRasterBand(origin, target_resolution, width, height)"
   ]
  },
  {
   "cell_type": "code",
   "execution_count": 12,
   "metadata": {},
   "outputs": [
    {
     "data": {
      "application/vnd.jupyter.widget-view+json": {
       "model_id": "f6d3a098484345b6a386c9113e445404",
       "version_major": 2,
       "version_minor": 0
      },
      "text/plain": [
       "Output()"
      ]
     },
     "metadata": {},
     "output_type": "display_data"
    },
    {
     "data": {
      "text/html": [
       "<pre style=\"white-space:pre;overflow-x:auto;line-height:normal;font-family:Menlo,'DejaVu Sans Mono',consolas,'Courier New',monospace\"></pre>\n"
      ],
      "text/plain": []
     },
     "metadata": {},
     "output_type": "display_data"
    },
    {
     "data": {
      "application/vnd.jupyter.widget-view+json": {
       "model_id": "6507e45b07cd4adbbabc1f58f6e656bb",
       "version_major": 2,
       "version_minor": 0
      },
      "text/plain": [
       "Output()"
      ]
     },
     "metadata": {},
     "output_type": "display_data"
    },
    {
     "data": {
      "text/html": [
       "<pre style=\"white-space:pre;overflow-x:auto;line-height:normal;font-family:Menlo,'DejaVu Sans Mono',consolas,'Courier New',monospace\"></pre>\n"
      ],
      "text/plain": []
     },
     "metadata": {},
     "output_type": "display_data"
    },
    {
     "data": {
      "application/vnd.jupyter.widget-view+json": {
       "model_id": "bde9972436da45ebbe53526712b528cc",
       "version_major": 2,
       "version_minor": 0
      },
      "text/plain": [
       "Output()"
      ]
     },
     "metadata": {},
     "output_type": "display_data"
    },
    {
     "data": {
      "text/html": [
       "<pre style=\"white-space:pre;overflow-x:auto;line-height:normal;font-family:Menlo,'DejaVu Sans Mono',consolas,'Courier New',monospace\"></pre>\n"
      ],
      "text/plain": []
     },
     "metadata": {},
     "output_type": "display_data"
    },
    {
     "data": {
      "application/vnd.jupyter.widget-view+json": {
       "model_id": "6eeece925fb2440d845347f8a57d6531",
       "version_major": 2,
       "version_minor": 0
      },
      "text/plain": [
       "Output()"
      ]
     },
     "metadata": {},
     "output_type": "display_data"
    },
    {
     "data": {
      "text/html": [
       "<pre style=\"white-space:pre;overflow-x:auto;line-height:normal;font-family:Menlo,'DejaVu Sans Mono',consolas,'Courier New',monospace\"></pre>\n"
      ],
      "text/plain": []
     },
     "metadata": {},
     "output_type": "display_data"
    },
    {
     "data": {
      "application/vnd.jupyter.widget-view+json": {
       "model_id": "0a5fb1ebe8124ce2bed15f01bb771d90",
       "version_major": 2,
       "version_minor": 0
      },
      "text/plain": [
       "Output()"
      ]
     },
     "metadata": {},
     "output_type": "display_data"
    },
    {
     "data": {
      "text/html": [
       "<pre style=\"white-space:pre;overflow-x:auto;line-height:normal;font-family:Menlo,'DejaVu Sans Mono',consolas,'Courier New',monospace\"></pre>\n"
      ],
      "text/plain": []
     },
     "metadata": {},
     "output_type": "display_data"
    },
    {
     "data": {
      "text/plain": [
       "'Computed StaR Map in 51.46642133779824 seconds'"
      ]
     },
     "execution_count": 12,
     "metadata": {},
     "output_type": "execute_result"
    }
   ],
   "source": [
    "# We create a statistical relational map (StaR Map) to represent the\n",
    "# stochastic relationships in the environment, computing a raster of 100 x 100 points\n",
    "# using linear interpolation of a sample set\n",
    "before = monotonic()\n",
    "star_map = StaRMap(target, uam, method=\"nearest\")\n",
    "\n",
    "star_map.initialize(\n",
    "    # The sample points for which the relations will be computed directly\n",
    "    support=support,\n",
    "    # We now compute the Distance and Over relationships for the selected points\n",
    "    # For this, we take many random samples from generated/possible map variations\n",
    "    number_of_random_maps=2,  # TODO\n",
    "    # The logic used later. This is required to determine which relationships to prepare\n",
    "    logic=logic,\n",
    ")\n",
    "after = monotonic()\n",
    "\n",
    "star_map.save(\"maritime_star_map.pkl\")\n",
    "\n",
    "runtime = after - before\n",
    "f\"Computed StaR Map in {runtime} seconds\""
   ]
  },
  {
   "cell_type": "code",
   "execution_count": 13,
   "metadata": {},
   "outputs": [],
   "source": [
    "star_map = StaRMap.load(\"maritime_star_map.pkl\")"
   ]
  },
  {
   "cell_type": "markdown",
   "metadata": {},
   "source": [
    "### Visualize the relations"
   ]
  },
  {
   "cell_type": "code",
   "execution_count": 14,
   "metadata": {},
   "outputs": [
    {
     "data": {
      "image/png": "[encoded data removed]",
      "text/plain": [
       "<Figure size 800x300 with 2 Axes>"
      ]
     },
     "metadata": {},
     "output_type": "display_data"
    },
    {
     "data": {
      "text/plain": [
       "<Figure size 800x300 with 0 Axes>"
      ]
     },
     "metadata": {},
     "output_type": "display_data"
    }
   ],
   "source": [
    "# We first plot the depth since we have some special handling for it\n",
    "depth: Depth = star_map.get(\"depth\", \"water\")\n",
    "plt.title(\"Depth (mean)\")\n",
    "depth.plot(value_index=0)\n",
    "plt.show()\n",
    "plt.clf()"
   ]
  },
  {
   "cell_type": "code",
   "execution_count": 15,
   "metadata": {},
   "outputs": [
    {
     "data": {
      "image/png": "[encoded data removed]",
      "text/plain": [
       "<Figure size 800x300 with 2 Axes>"
      ]
     },
     "metadata": {},
     "output_type": "display_data"
    },
    {
     "data": {
      "text/plain": [
       "<Figure size 800x300 with 0 Axes>"
      ]
     },
     "metadata": {},
     "output_type": "display_data"
    }
   ],
   "source": [
    "plt.title(\"Depth (variance)\")\n",
    "depth.plot(value_index=1)\n",
    "plt.show()\n",
    "plt.clf()"
   ]
  },
  {
   "cell_type": "code",
   "execution_count": 16,
   "metadata": {},
   "outputs": [
    {
     "data": {
      "text/plain": [
       "{'over': {'anchorage', 'land'},\n",
       " 'distance': {'land', 'water_route'},\n",
       " 'depth': {'water'}}"
      ]
     },
     "execution_count": 16,
     "metadata": {},
     "output_type": "execute_result"
    }
   ],
   "source": [
    "all_relations = star_map.relation_and_location_types\n",
    "all_relations"
   ]
  },
  {
   "cell_type": "code",
   "execution_count": 17,
   "metadata": {},
   "outputs": [
    {
     "name": "stdout",
     "output_type": "stream",
     "text": [
      "Lowered zoom level to keep map size reasonable. (z = 12)\n",
      "Lowered zoom level to keep map size reasonable. (z = 12)\n",
      "Lowered zoom level to keep map size reasonable. (z = 12)\n",
      "Lowered zoom level to keep map size reasonable. (z = 12)\n",
      "Lowered zoom level to keep map size reasonable. (z = 12)\n"
     ]
    },
    {
     "data": {
      "image/png": "[encoded data removed]",
      "text/plain": [
       "<Figure size 800x600 with 12 Axes>"
      ]
     },
     "metadata": {},
     "output_type": "display_data"
    },
    {
     "data": {
      "text/plain": [
       "<Figure size 800x300 with 0 Axes>"
      ]
     },
     "metadata": {},
     "output_type": "display_data"
    }
   ],
   "source": [
    "# Create one row per relation type and one column per location type\n",
    "fig, axes = plt.subplots(\n",
    "    len(all_relations), len(star_map.location_types), figsize=(8, 6), sharex=True, sharey=True\n",
    ")\n",
    "\n",
    "for i, (relation_type, location_types) in enumerate(all_relations.items()):\n",
    "    for j, location_type in enumerate(star_map.location_types):\n",
    "        # Get the axis for the current row and column\n",
    "        ax = axes[i, j]\n",
    "\n",
    "        # Label the rows and columns\n",
    "        if j == 0:\n",
    "            ax.set_ylabel(relation_type)\n",
    "        if i == 0:\n",
    "            ax.set_title(location_type)\n",
    "\n",
    "        # Get the relation and visualize it\n",
    "        if location_type in location_types:\n",
    "            relation = star_map.get(relation_type, location_type)\n",
    "            relation.parameters.scatter(ax=ax, alpha=0.5)\n",
    "        else:\n",
    "            # No data available, but we still want to show the label\n",
    "            ax.set_xticks([])\n",
    "            ax.set_yticks([])\n",
    "            # Despine\n",
    "            sns.despine(ax=ax, left=True, bottom=True, right=True, top=True)\n",
    "\n",
    "        # if j == len(all_location_types) - 1:\n",
    "        #     plt.colorbar()\n",
    "\n",
    "plt.show()\n",
    "plt.clf()"
   ]
  },
  {
   "cell_type": "code",
   "execution_count": 18,
   "metadata": {},
   "outputs": [
    {
     "name": "stdout",
     "output_type": "stream",
     "text": [
      "Lowered zoom level to keep map size reasonable. (z = 12)\n"
     ]
    },
    {
     "data": {
      "image/png": "[encoded data removed]",
      "text/plain": [
       "<Figure size 800x300 with 1 Axes>"
      ]
     },
     "metadata": {},
     "output_type": "display_data"
    },
    {
     "data": {
      "text/plain": [
       "<Figure size 800x300 with 0 Axes>"
      ]
     },
     "metadata": {},
     "output_type": "display_data"
    }
   ],
   "source": [
    "relation = star_map.get(\"over\", \"land\")\n",
    "relation.parameters.scatter(vmin=0, s=0.1, alpha=0.2)\n",
    "plt.show()\n",
    "plt.clf()"
   ]
  },
  {
   "cell_type": "code",
   "execution_count": 19,
   "metadata": {},
   "outputs": [],
   "source": [
    "folder = output_folder / \"relations\"\n",
    "folder.mkdir(exist_ok=True)\n",
    "\n",
    "for relation_type, location_types in star_map.relation_and_location_types.items():\n",
    "    for location_type in location_types:\n",
    "        relation = star_map.get(relation_type, location_type)\n",
    "        path = folder / f\"{relation_type}_{location_type}.csv\"\n",
    "        relation.parameters.to_polar().to_csv(path)"
   ]
  },
  {
   "cell_type": "markdown",
   "metadata": {},
   "source": [
    "### Run some inference\n",
    "\n",
    "To make sure everything will run smoothly, we can run some inference on the data."
   ]
  },
  {
   "cell_type": "code",
   "execution_count": 20,
   "metadata": {},
   "outputs": [],
   "source": [
    "# In ProMis, we define the constraints of the mission\n",
    "# as hybrid probabilistic first-order logic programs\n",
    "\n",
    "# Solve mission constraints using StaRMap parameters and multiprocessing\n",
    "promis = ProMis(star_map)"
   ]
  },
  {
   "cell_type": "code",
   "execution_count": 21,
   "metadata": {},
   "outputs": [
    {
     "name": "stdout",
     "output_type": "stream",
     "text": [
      "\n",
      "% Make sure to only use realtions that are already computed in the StaR Map\n",
      "landscape(X) :- distance(X, water_route) < 500, depth(X, water) < -10.\n",
      "\n",
      "depth(x_0, water) ~ normal(0.0, 0.001).\n",
      "distance(x_0, water_route) ~ normal(358.12799993359044, 0.001).\n",
      "query(landscape(x_0)).\n",
      "depth(x_1, water) ~ normal(0.0, 0.001).\n",
      "distance(x_1, water_route) ~ normal(407.23035435030164, 0.001).\n",
      "query(landscape(x_1)).\n",
      "depth(x_2, water) ~ normal(0.0, 0.001).\n",
      "distance(x_2, water_route) ~ normal(522.9609921418976, 0.001).\n",
      "query(landscape(x_2)).\n",
      "\n",
      "Lowered zoom level to keep map size reasonable. (z = 12)\n"
     ]
    },
    {
     "data": {
      "image/png": "[encoded data removed]",
      "text/plain": [
       "<Figure size 800x300 with 2 Axes>"
      ]
     },
     "metadata": {},
     "output_type": "display_data"
    },
    {
     "data": {
      "text/plain": [
       "<Figure size 800x300 with 0 Axes>"
      ]
     },
     "metadata": {},
     "output_type": "display_data"
    }
   ],
   "source": [
    "# Solve an example logic program\n",
    "logic = r\"\"\"\n",
    "% Make sure to only use realtions that are already computed in the StaR Map\n",
    "landscape(X) :- distance(X, water_route) < 500, depth(X, water) < -10.\n",
    "\"\"\"\n",
    "landscape = promis.solve(support, logic, n_jobs=16, batch_size=3, print_first=True)\n",
    "\n",
    "# Show the resulting landscape\n",
    "ax = landscape.scatter()\n",
    "plt.colorbar(ax, label=\"Probability\")\n",
    "plt.show()\n",
    "plt.clf()"
   ]
  },
  {
   "cell_type": "markdown",
   "metadata": {},
   "source": [
    "## Load some AIS data\n",
    "\n",
    "The Automatic Identification System (AIS) is a system used for tracking ships. We will use its observations as our measurements and for model validation."
   ]
  },
  {
   "cell_type": "code",
   "execution_count": 22,
   "metadata": {},
   "outputs": [],
   "source": [
    "vessel_types = json.loads((Path(\"..\") / \"data\" / \"vessel_types_simplified.json\").read_text())\n",
    "# vessel_types"
   ]
  },
  {
   "cell_type": "code",
   "execution_count": 23,
   "metadata": {},
   "outputs": [
    {
     "data": {
      "text/html": [
       "<div>\n",
       "<style scoped>\n",
       "    .dataframe tbody tr th:only-of-type {\n",
       "        vertical-align: middle;\n",
       "    }\n",
       "\n",
       "    .dataframe tbody tr th {\n",
       "        vertical-align: top;\n",
       "    }\n",
       "\n",
       "    .dataframe thead th {\n",
       "        text-align: right;\n",
       "    }\n",
       "</style>\n",
       "<table border=\"1\" class=\"dataframe\">\n",
       "  <thead>\n",
       "    <tr style=\"text-align: right;\">\n",
       "      <th></th>\n",
       "      <th>MMSI</th>\n",
       "      <th>BaseDateTime</th>\n",
       "      <th>LAT</th>\n",
       "      <th>LON</th>\n",
       "      <th>SOG</th>\n",
       "      <th>COG</th>\n",
       "      <th>Heading</th>\n",
       "      <th>VesselName</th>\n",
       "      <th>IMO</th>\n",
       "      <th>CallSign</th>\n",
       "      <th>VesselType</th>\n",
       "      <th>Status</th>\n",
       "      <th>Length</th>\n",
       "      <th>Width</th>\n",
       "      <th>Draft</th>\n",
       "      <th>Cargo</th>\n",
       "      <th>TransceiverClass</th>\n",
       "      <th>VesselTypeName</th>\n",
       "    </tr>\n",
       "  </thead>\n",
       "  <tbody>\n",
       "    <tr>\n",
       "      <th>6419256</th>\n",
       "      <td>232040168</td>\n",
       "      <td>2023-08-01 18:28:39</td>\n",
       "      <td>40.43095</td>\n",
       "      <td>-74.02005</td>\n",
       "      <td>9.5</td>\n",
       "      <td>353.6</td>\n",
       "      <td>358.0</td>\n",
       "      <td>DANCING BEAR</td>\n",
       "      <td>IMO0000000</td>\n",
       "      <td>MKTD4</td>\n",
       "      <td>37</td>\n",
       "      <td>NaN</td>\n",
       "      <td>0.0</td>\n",
       "      <td>0.0</td>\n",
       "      <td>NaN</td>\n",
       "      <td>NaN</td>\n",
       "      <td>B</td>\n",
       "      <td>Pleasure craft</td>\n",
       "    </tr>\n",
       "    <tr>\n",
       "      <th>6466453</th>\n",
       "      <td>232040168</td>\n",
       "      <td>2023-08-01 18:33:14</td>\n",
       "      <td>40.44245</td>\n",
       "      <td>-74.02143</td>\n",
       "      <td>8.7</td>\n",
       "      <td>356.7</td>\n",
       "      <td>359.0</td>\n",
       "      <td>DANCING BEAR</td>\n",
       "      <td>IMO0000000</td>\n",
       "      <td>MKTD4</td>\n",
       "      <td>37</td>\n",
       "      <td>NaN</td>\n",
       "      <td>0.0</td>\n",
       "      <td>0.0</td>\n",
       "      <td>NaN</td>\n",
       "      <td>NaN</td>\n",
       "      <td>B</td>\n",
       "      <td>Pleasure craft</td>\n",
       "    </tr>\n",
       "    <tr>\n",
       "      <th>6459598</th>\n",
       "      <td>232040168</td>\n",
       "      <td>2023-08-01 18:35:17</td>\n",
       "      <td>40.44752</td>\n",
       "      <td>-74.02185</td>\n",
       "      <td>9.5</td>\n",
       "      <td>359.0</td>\n",
       "      <td>3.0</td>\n",
       "      <td>DANCING BEAR</td>\n",
       "      <td>IMO0000000</td>\n",
       "      <td>MKTD4</td>\n",
       "      <td>37</td>\n",
       "      <td>NaN</td>\n",
       "      <td>0.0</td>\n",
       "      <td>0.0</td>\n",
       "      <td>NaN</td>\n",
       "      <td>NaN</td>\n",
       "      <td>B</td>\n",
       "      <td>Pleasure craft</td>\n",
       "    </tr>\n",
       "    <tr>\n",
       "      <th>8981698</th>\n",
       "      <td>232040168</td>\n",
       "      <td>2023-08-01 18:37:19</td>\n",
       "      <td>40.45257</td>\n",
       "      <td>-74.02208</td>\n",
       "      <td>8.7</td>\n",
       "      <td>345.1</td>\n",
       "      <td>357.0</td>\n",
       "      <td>DANCING BEAR</td>\n",
       "      <td>IMO0000000</td>\n",
       "      <td>MKTD4</td>\n",
       "      <td>37</td>\n",
       "      <td>NaN</td>\n",
       "      <td>0.0</td>\n",
       "      <td>0.0</td>\n",
       "      <td>NaN</td>\n",
       "      <td>NaN</td>\n",
       "      <td>B</td>\n",
       "      <td>Pleasure craft</td>\n",
       "    </tr>\n",
       "    <tr>\n",
       "      <th>6488747</th>\n",
       "      <td>232040168</td>\n",
       "      <td>2023-08-01 18:39:22</td>\n",
       "      <td>40.45765</td>\n",
       "      <td>-74.02248</td>\n",
       "      <td>10.3</td>\n",
       "      <td>5.2</td>\n",
       "      <td>1.0</td>\n",
       "      <td>DANCING BEAR</td>\n",
       "      <td>IMO0000000</td>\n",
       "      <td>MKTD4</td>\n",
       "      <td>37</td>\n",
       "      <td>NaN</td>\n",
       "      <td>0.0</td>\n",
       "      <td>0.0</td>\n",
       "      <td>NaN</td>\n",
       "      <td>NaN</td>\n",
       "      <td>B</td>\n",
       "      <td>Pleasure craft</td>\n",
       "    </tr>\n",
       "    <tr>\n",
       "      <th>...</th>\n",
       "      <td>...</td>\n",
       "      <td>...</td>\n",
       "      <td>...</td>\n",
       "      <td>...</td>\n",
       "      <td>...</td>\n",
       "      <td>...</td>\n",
       "      <td>...</td>\n",
       "      <td>...</td>\n",
       "      <td>...</td>\n",
       "      <td>...</td>\n",
       "      <td>...</td>\n",
       "      <td>...</td>\n",
       "      <td>...</td>\n",
       "      <td>...</td>\n",
       "      <td>...</td>\n",
       "      <td>...</td>\n",
       "      <td>...</td>\n",
       "      <td>...</td>\n",
       "    </tr>\n",
       "    <tr>\n",
       "      <th>2049619</th>\n",
       "      <td>636092711</td>\n",
       "      <td>2023-08-01 06:02:51</td>\n",
       "      <td>40.47122</td>\n",
       "      <td>-73.87473</td>\n",
       "      <td>16.9</td>\n",
       "      <td>116.7</td>\n",
       "      <td>116.0</td>\n",
       "      <td>SEATRADE RED</td>\n",
       "      <td>IMO9690107</td>\n",
       "      <td>D5LR9</td>\n",
       "      <td>70</td>\n",
       "      <td>0.0</td>\n",
       "      <td>185.0</td>\n",
       "      <td>NaN</td>\n",
       "      <td>NaN</td>\n",
       "      <td>79.0</td>\n",
       "      <td>A</td>\n",
       "      <td>Cargo</td>\n",
       "    </tr>\n",
       "    <tr>\n",
       "      <th>2045169</th>\n",
       "      <td>636092711</td>\n",
       "      <td>2023-08-01 06:03:57</td>\n",
       "      <td>40.46890</td>\n",
       "      <td>-73.86867</td>\n",
       "      <td>17.0</td>\n",
       "      <td>117.1</td>\n",
       "      <td>121.0</td>\n",
       "      <td>SEATRADE RED</td>\n",
       "      <td>IMO9690107</td>\n",
       "      <td>D5LR9</td>\n",
       "      <td>70</td>\n",
       "      <td>0.0</td>\n",
       "      <td>185.0</td>\n",
       "      <td>NaN</td>\n",
       "      <td>NaN</td>\n",
       "      <td>79.0</td>\n",
       "      <td>A</td>\n",
       "      <td>Cargo</td>\n",
       "    </tr>\n",
       "    <tr>\n",
       "      <th>2039743</th>\n",
       "      <td>636092711</td>\n",
       "      <td>2023-08-01 06:05:03</td>\n",
       "      <td>40.46605</td>\n",
       "      <td>-73.86302</td>\n",
       "      <td>16.9</td>\n",
       "      <td>125.6</td>\n",
       "      <td>125.0</td>\n",
       "      <td>SEATRADE RED</td>\n",
       "      <td>IMO9690107</td>\n",
       "      <td>D5LR9</td>\n",
       "      <td>70</td>\n",
       "      <td>0.0</td>\n",
       "      <td>185.0</td>\n",
       "      <td>NaN</td>\n",
       "      <td>NaN</td>\n",
       "      <td>79.0</td>\n",
       "      <td>A</td>\n",
       "      <td>Cargo</td>\n",
       "    </tr>\n",
       "    <tr>\n",
       "      <th>2057202</th>\n",
       "      <td>636092711</td>\n",
       "      <td>2023-08-01 06:06:08</td>\n",
       "      <td>40.46300</td>\n",
       "      <td>-73.85775</td>\n",
       "      <td>16.7</td>\n",
       "      <td>129.8</td>\n",
       "      <td>130.0</td>\n",
       "      <td>SEATRADE RED</td>\n",
       "      <td>IMO9690107</td>\n",
       "      <td>D5LR9</td>\n",
       "      <td>70</td>\n",
       "      <td>0.0</td>\n",
       "      <td>185.0</td>\n",
       "      <td>NaN</td>\n",
       "      <td>NaN</td>\n",
       "      <td>79.0</td>\n",
       "      <td>A</td>\n",
       "      <td>Cargo</td>\n",
       "    </tr>\n",
       "    <tr>\n",
       "      <th>2057213</th>\n",
       "      <td>636092711</td>\n",
       "      <td>2023-08-01 06:07:14</td>\n",
       "      <td>40.45972</td>\n",
       "      <td>-73.85272</td>\n",
       "      <td>16.2</td>\n",
       "      <td>130.6</td>\n",
       "      <td>130.0</td>\n",
       "      <td>SEATRADE RED</td>\n",
       "      <td>IMO9690107</td>\n",
       "      <td>D5LR9</td>\n",
       "      <td>70</td>\n",
       "      <td>0.0</td>\n",
       "      <td>185.0</td>\n",
       "      <td>NaN</td>\n",
       "      <td>NaN</td>\n",
       "      <td>79.0</td>\n",
       "      <td>A</td>\n",
       "      <td>Cargo</td>\n",
       "    </tr>\n",
       "  </tbody>\n",
       "</table>\n",
       "<p>48281 rows × 18 columns</p>\n",
       "</div>"
      ],
      "text/plain": [
       "              MMSI        BaseDateTime       LAT       LON   SOG    COG  \\\n",
       "6419256  232040168 2023-08-01 18:28:39  40.43095 -74.02005   9.5  353.6   \n",
       "6466453  232040168 2023-08-01 18:33:14  40.44245 -74.02143   8.7  356.7   \n",
       "6459598  232040168 2023-08-01 18:35:17  40.44752 -74.02185   9.5  359.0   \n",
       "8981698  232040168 2023-08-01 18:37:19  40.45257 -74.02208   8.7  345.1   \n",
       "6488747  232040168 2023-08-01 18:39:22  40.45765 -74.02248  10.3    5.2   \n",
       "...            ...                 ...       ...       ...   ...    ...   \n",
       "2049619  636092711 2023-08-01 06:02:51  40.47122 -73.87473  16.9  116.7   \n",
       "2045169  636092711 2023-08-01 06:03:57  40.46890 -73.86867  17.0  117.1   \n",
       "2039743  636092711 2023-08-01 06:05:03  40.46605 -73.86302  16.9  125.6   \n",
       "2057202  636092711 2023-08-01 06:06:08  40.46300 -73.85775  16.7  129.8   \n",
       "2057213  636092711 2023-08-01 06:07:14  40.45972 -73.85272  16.2  130.6   \n",
       "\n",
       "         Heading    VesselName         IMO CallSign  VesselType  Status  \\\n",
       "6419256    358.0  DANCING BEAR  IMO0000000    MKTD4          37     NaN   \n",
       "6466453    359.0  DANCING BEAR  IMO0000000    MKTD4          37     NaN   \n",
       "6459598      3.0  DANCING BEAR  IMO0000000    MKTD4          37     NaN   \n",
       "8981698    357.0  DANCING BEAR  IMO0000000    MKTD4          37     NaN   \n",
       "6488747      1.0  DANCING BEAR  IMO0000000    MKTD4          37     NaN   \n",
       "...          ...           ...         ...      ...         ...     ...   \n",
       "2049619    116.0  SEATRADE RED  IMO9690107    D5LR9          70     0.0   \n",
       "2045169    121.0  SEATRADE RED  IMO9690107    D5LR9          70     0.0   \n",
       "2039743    125.0  SEATRADE RED  IMO9690107    D5LR9          70     0.0   \n",
       "2057202    130.0  SEATRADE RED  IMO9690107    D5LR9          70     0.0   \n",
       "2057213    130.0  SEATRADE RED  IMO9690107    D5LR9          70     0.0   \n",
       "\n",
       "         Length  Width  Draft  Cargo TransceiverClass  VesselTypeName  \n",
       "6419256     0.0    0.0    NaN    NaN                B  Pleasure craft  \n",
       "6466453     0.0    0.0    NaN    NaN                B  Pleasure craft  \n",
       "6459598     0.0    0.0    NaN    NaN                B  Pleasure craft  \n",
       "8981698     0.0    0.0    NaN    NaN                B  Pleasure craft  \n",
       "6488747     0.0    0.0    NaN    NaN                B  Pleasure craft  \n",
       "...         ...    ...    ...    ...              ...             ...  \n",
       "2049619   185.0    NaN    NaN   79.0                A           Cargo  \n",
       "2045169   185.0    NaN    NaN   79.0                A           Cargo  \n",
       "2039743   185.0    NaN    NaN   79.0                A           Cargo  \n",
       "2057202   185.0    NaN    NaN   79.0                A           Cargo  \n",
       "2057213   185.0    NaN    NaN   79.0                A           Cargo  \n",
       "\n",
       "[48281 rows x 18 columns]"
      ]
     },
     "execution_count": 23,
     "metadata": {},
     "output_type": "execute_result"
    }
   ],
   "source": [
    "def load_ais(\n",
    "    path: str | Path, bbox: None | tuple[tuple[float, float], tuple[float, float]]\n",
    ") -> pd.DataFrame:\n",
    "    # Read the csv into pandas\n",
    "    df = pd.read_csv(path)\n",
    "\n",
    "    # Filter by bounding box\n",
    "    if bbox is not None:\n",
    "        # This is a overly simplistic bounding box filter that only works on moderate latitudes\n",
    "        # and far from the dateline\n",
    "        df = df[\n",
    "            (df[\"LAT\"] > bbox[0][0])\n",
    "            & (df[\"LAT\"] < bbox[1][0])\n",
    "            & (df[\"LON\"] > bbox[0][1])\n",
    "            & (df[\"LON\"] < bbox[1][1])\n",
    "        ]\n",
    "\n",
    "    # Sort by time per ship\n",
    "    df[\"BaseDateTime\"] = pd.to_datetime(df[\"BaseDateTime\"])\n",
    "    df.sort_values([\"MMSI\", \"BaseDateTime\"], inplace=True)\n",
    "\n",
    "    df.loc[df[\"VesselType\"].isna(), \"VesselType\"] = 0  # Zero means unknown\n",
    "\n",
    "    df[\"VesselType\"] = df[\"VesselType\"].astype(int)\n",
    "    df[\"VesselTypeName\"] = df[\"VesselType\"].astype(str).map(vessel_types)\n",
    "\n",
    "    # Filter out all vessels that have an average SOG of less than 1 knot\n",
    "    df = df.groupby(\"MMSI\").filter(lambda x: x[\"SOG\"].mean() > 1)\n",
    "\n",
    "    return df\n",
    "\n",
    "\n",
    "df = load_ais(Path(\"..\") / \"data\" / \"ais\" / \"AIS_2023_08_01.csv\", bbox=bbox)\n",
    "df"
   ]
  },
  {
   "cell_type": "code",
   "execution_count": null,
   "metadata": {},
   "outputs": [],
   "source": [
    "df[\"Draft\"].hist(bins=50)\n",
    "pass"
   ]
  },
  {
   "cell_type": "code",
   "execution_count": null,
   "metadata": {},
   "outputs": [],
   "source": [
    "df[\"Status\"].value_counts().sort_index()"
   ]
  },
  {
   "cell_type": "code",
   "execution_count": null,
   "metadata": {},
   "outputs": [],
   "source": [
    "df[\"Status\"].hist()\n",
    "pass"
   ]
  },
  {
   "cell_type": "code",
   "execution_count": null,
   "metadata": {},
   "outputs": [],
   "source": [
    "collection = PolarCollection(origin=origin, number_of_values=0)\n",
    "collection.append_with_default(df[[\"LON\", \"LAT\"]].values, value=())\n",
    "cartesian = collection.to_cartesian()\n",
    "\n",
    "df.loc[:, \"East\"] = cartesian.data[\"east\"].values\n",
    "df.loc[:, \"North\"] = cartesian.data[\"north\"].values\n",
    "df"
   ]
  },
  {
   "cell_type": "markdown",
   "metadata": {},
   "source": [
    "### Visualize it"
   ]
  },
  {
   "cell_type": "code",
   "execution_count": null,
   "metadata": {},
   "outputs": [],
   "source": [
    "MMSIs = df[\"MMSI\"].value_counts()\n",
    "min_observations = 10 + 20 + 15  # warmup + some usage in between + dead_reckoning\n",
    "relevant_MMSIs = MMSIs[MMSIs > min_observations].index\n",
    "df = df[df[\"MMSI\"].isin(relevant_MMSIs)]"
   ]
  },
  {
   "cell_type": "code",
   "execution_count": null,
   "metadata": {},
   "outputs": [],
   "source": [
    "vessel_type_to_index = {\n",
    "    vessel_type: i for i, vessel_type in enumerate(sorted(df[\"VesselTypeName\"].unique()))\n",
    "}\n",
    "palette = sns.color_palette(\"tab20\", len(vessel_type_to_index))\n",
    "\n",
    "relevant_vessel_types = df[\"VesselTypeName\"].unique()\n",
    "\n",
    "cols = 5\n",
    "all_rows = ceil(len(relevant_vessel_types) / cols)\n",
    "fig, ax = plt.subplots(ncols=cols, nrows=all_rows, figsize=(13, 8), sharex=True, sharey=True)\n",
    "\n",
    "for (vessel_type, i), ax in zip(vessel_type_to_index.items(), ax.flatten()):\n",
    "    for mmsi in relevant_MMSIs:\n",
    "        df_ = df[df[\"MMSI\"] == mmsi]\n",
    "        if relevant_vessel_types is not None and df_[\"VesselTypeName\"].iloc[0] != vessel_type:\n",
    "            continue\n",
    "        vessel_type = df_[\"VesselTypeName\"].iloc[0]\n",
    "        color = palette[vessel_type_to_index[vessel_type]]\n",
    "        ax.plot(df_[\"LON\"], df_[\"LAT\"], c=color)\n",
    "\n",
    "    ax.set_xlim(bbox[0][1], bbox[1][1])\n",
    "    if i >= cols * (all_rows - 1):\n",
    "        ax.set_xlabel(\"Longitude\")\n",
    "    ax.set_ylim(bbox[0][0], bbox[1][0])\n",
    "    if i % cols == 0:\n",
    "        ax.set_ylabel(\"Latitude\")\n",
    "\n",
    "    col = i % cols\n",
    "    row = i // cols\n",
    "    # if we are in the center, right-hand side\n",
    "    if col == cols - 1 and row == len(relevant_vessel_types) // cols - 1:\n",
    "        ax.legend(\n",
    "            [\n",
    "                plt.Line2D([0], [0], color=palette[i], lw=2, label=vessel_type)\n",
    "                for i, vessel_type in enumerate(vessel_type_to_index)\n",
    "            ],\n",
    "            vessel_type_to_index.keys(),\n",
    "            title=\"Vessel Type\",\n",
    "            loc=\"center left\",\n",
    "            bbox_to_anchor=(1.05, 0.5),\n",
    "        )\n",
    "\n",
    "plt.suptitle(setting)\n",
    "\n",
    "plt.savefig(output_folder / \"ais-all-tracks.pdf\", bbox_inches=\"tight\")\n",
    "\n",
    "plt.show()\n",
    "plt.clf()"
   ]
  },
  {
   "cell_type": "code",
   "execution_count": null,
   "metadata": {},
   "outputs": [],
   "source": [
    "relevant_vessel_types = [\n",
    "    \"Cargo\",\n",
    "    \"Cargo hazardous\",\n",
    "    \"Search and rescue vessels\",\n",
    "    \"Towing\",\n",
    "    \"Other\",\n",
    "    \"Tanker\",\n",
    "    \"Tanker hazardous\",\n",
    "]"
   ]
  },
  {
   "cell_type": "code",
   "execution_count": null,
   "metadata": {},
   "outputs": [],
   "source": [
    "for mmsi in relevant_MMSIs:\n",
    "    df_ = df[df[\"MMSI\"] == mmsi]\n",
    "    if df_[\"VesselTypeName\"].iloc[0] not in relevant_vessel_types:\n",
    "        continue\n",
    "\n",
    "    plt.plot(df_[\"LON\"], df_[\"LAT\"], c=color)\n",
    "    plt.xlim(bbox[0][1], bbox[1][1])\n",
    "    plt.ylim(bbox[0][0], bbox[1][0])\n",
    "    plt.gca().set_aspect(\"equal\")\n",
    "\n",
    "    path = output_folder / \"plot-individual-traces\" / df_[\"VesselTypeName\"].iloc[0]\n",
    "    path.mkdir(exist_ok=True, parents=True)\n",
    "    plt.savefig(path / f\"{mmsi}.pdf\", bbox_inches=\"tight\")\n",
    "    plt.clf()"
   ]
  },
  {
   "cell_type": "code",
   "execution_count": null,
   "metadata": {},
   "outputs": [],
   "source": [
    "# An example of a single vessel\n",
    "track_mmsi = 636017103\n",
    "track_mmsi"
   ]
  },
  {
   "cell_type": "code",
   "execution_count": null,
   "metadata": {},
   "outputs": [],
   "source": [
    "df_ = df[df[\"MMSI\"] == track_mmsi]\n",
    "df_"
   ]
  },
  {
   "cell_type": "code",
   "execution_count": null,
   "metadata": {},
   "outputs": [],
   "source": [
    "df[\"SOG\"].hist(bins=100)\n",
    "pass"
   ]
  },
  {
   "cell_type": "code",
   "execution_count": null,
   "metadata": {},
   "outputs": [],
   "source": [
    "plt.plot(np.arange(len(df_[\"BaseDateTime\"])), df_[\"BaseDateTime\"])\n",
    "pass"
   ]
  },
  {
   "cell_type": "markdown",
   "metadata": {},
   "source": [
    "## Compute the ProMis landscapes for the ship categories"
   ]
  },
  {
   "cell_type": "code",
   "execution_count": null,
   "metadata": {},
   "outputs": [],
   "source": [
    "def landscape_for_mmsi(mmsi: int) -> CartesianCollection:\n",
    "    metadata = df[df[\"MMSI\"] == mmsi].iloc[0]\n",
    "\n",
    "    specific = copy(logic)\n",
    "\n",
    "    vessel_type = metadata[\"VesselTypeName\"].replace(\" \", \"_\").lower()\n",
    "    specific += f\"\\nis_{vessel_type}.\"\n",
    "    for vessel_type in relevant_vessel_types:\n",
    "        if vessel_type != metadata[\"VesselTypeName\"]:\n",
    "            specific += f\"\\n0::is_{vessel_type.replace(' ', '_').lower()}.\"\n",
    "\n",
    "    length = metadata[\"Length\"]\n",
    "    if isfinite(length) and length > 0:\n",
    "        specific += f\"\\nlength ~ normal({length}, {length * 0.05}).\"\n",
    "    else:\n",
    "        # Some prior knowledge\n",
    "        specific += \"\\nlength ~ normal(30, 10).\"\n",
    "\n",
    "    draft = metadata[\"Draft\"]\n",
    "    if isfinite(length) and draft > 0:\n",
    "        specific += f\"\\ncurrent_draft ~ normal({draft}, {draft * 0.1}).\"\n",
    "    else:\n",
    "        # Some prior knowledge\n",
    "        specific += \"\\ncurrent_draft ~ normal(2, 1).\"\n",
    "\n",
    "    # This is an example of a time varying feature\n",
    "    # speed_over_ground = metadata[\"SOG\"]\n",
    "    # if isfinite(speed_over_ground):\n",
    "    #     specific += f\"\\nspeed_over_ground ~ normal({speed_over_ground}, {speed_over_ground*0.1}).\"\n",
    "    # else:\n",
    "    #     # Some prior knowledge\n",
    "    #     specific += \"\\nspeed_over_ground ~ normal(5, 5).\"\n",
    "\n",
    "    specific += \"\\n\\n\"  # Add newlines for better readability\n",
    "\n",
    "    return promis.solve(support, specific, n_jobs=16, show_progress=False)\n",
    "\n",
    "\n",
    "landscapes = {\n",
    "    \"Cargo\": landscape_for_mmsi(636017103),\n",
    "    \"Search and rescue vessels\": landscape_for_mmsi(367531710),\n",
    "    \"Towing\": landscape_for_mmsi(303461000),\n",
    "}"
   ]
  },
  {
   "cell_type": "markdown",
   "metadata": {},
   "source": [
    "### Save them for external use"
   ]
  },
  {
   "cell_type": "code",
   "execution_count": null,
   "metadata": {},
   "outputs": [],
   "source": [
    "for vessel_type, landscape in landscapes.items():\n",
    "    # Store the landscape\n",
    "    path = output_folder / \"landscape\"\n",
    "    path.mkdir(exist_ok=True)\n",
    "    landscape.to_polar().to_csv(path / f\"{vessel_type}.csv\")\n",
    "\n",
    "    # Store the trace of the vessels\n",
    "    df_ = df[df[\"VesselTypeName\"] == vessel_type]\n",
    "    path = output_folder / \"ais-trace\"\n",
    "    path.mkdir(exist_ok=True)\n",
    "    df_[[\"MMSI\", \"LAT\", \"LON\"]].to_csv(path / f\"{vessel_type}.csv\", index=False)"
   ]
  },
  {
   "cell_type": "markdown",
   "metadata": {},
   "source": [
    "### Visualize the landscapes"
   ]
  },
  {
   "cell_type": "code",
   "execution_count": null,
   "metadata": {},
   "outputs": [],
   "source": [
    "# This will be used much later\n",
    "ship_marker = parse_path(svg2paths(\"ship-icon.svg\")[1][0][\"d\"])\n",
    "ship_marker.vertices -= ship_marker.vertices.mean(axis=0)\n",
    "ship_marker = ship_marker.transformed(Affine2D().rotate_deg(180)).transformed(\n",
    "    Affine2D().scale(-1, 1)\n",
    ")"
   ]
  },
  {
   "cell_type": "code",
   "execution_count": null,
   "metadata": {},
   "outputs": [],
   "source": [
    "for name, landscape in landscapes.items():\n",
    "    landscape.scatter()\n",
    "    plt.title(name)\n",
    "    plt.show()\n",
    "    plt.clf()"
   ]
  },
  {
   "cell_type": "code",
   "execution_count": null,
   "metadata": {},
   "outputs": [],
   "source": [
    "interpolators = {\n",
    "    vessel_type: landscape.get_interpolator(method=\"nearest\")\n",
    "    for vessel_type, landscape in landscapes.items()\n",
    "}"
   ]
  },
  {
   "cell_type": "code",
   "execution_count": null,
   "metadata": {},
   "outputs": [],
   "source": [
    "typical_ship_speed = 5  # meters per second\n",
    "typical_sample_time = 60  # seconds"
   ]
  },
  {
   "cell_type": "code",
   "execution_count": null,
   "metadata": {},
   "outputs": [],
   "source": [
    "def plot_trajectories(all_positions: ndarray, label: str | None = \"Trajectory {}\", **kwargs):\n",
    "    if len(all_positions.shape) == 2:\n",
    "        all_positions = all_positions[None, ...]\n",
    "    for i, positions in enumerate(all_positions):\n",
    "        plt.plot(*zip(*positions), label=label.format(i) if label else None, **kwargs)"
   ]
  },
  {
   "cell_type": "code",
   "execution_count": null,
   "metadata": {},
   "outputs": [],
   "source": [
    "plt.figure(figsize=(6, 4))\n",
    "landscape.scatter(s=0.2, alpha=0.5)\n",
    "positions = stack((df_[\"East\"], df_[\"North\"])).T\n",
    "plot_trajectories(positions, label=\"True trajectory\")\n",
    "plt.show()\n",
    "plt.clf()\n",
    "pass"
   ]
  },
  {
   "cell_type": "code",
   "execution_count": null,
   "metadata": {},
   "outputs": [],
   "source": [
    "def plot_trajectories_animated(positions: ndarray, filename: str = \"trajectory.gif\") -> None:\n",
    "    fig, _ = plt.subplots()\n",
    "    landscape.scatter()\n",
    "    (line,) = plt.plot(*zip(*positions.T), label=\"Ship Position\")\n",
    "\n",
    "    def update(num, x, y, line):\n",
    "        line.set_data(x[:num], y[:num])\n",
    "        line.axes.axis([-width / 2, width / 2, -height / 2, height / 2])\n",
    "        return (line,)\n",
    "\n",
    "    ani = FuncAnimation(\n",
    "        fig,\n",
    "        update,\n",
    "        len(positions),\n",
    "        fargs=[positions[:, 0], positions[:, 1], line],\n",
    "        interval=1000 / 60,\n",
    "        blit=True,\n",
    "    )\n",
    "    ani.save(filename)\n",
    "    plt.clf()\n",
    "\n",
    "\n",
    "# plot_trajectories_animated(positions)"
   ]
  },
  {
   "cell_type": "markdown",
   "metadata": {},
   "source": [
    "## Implement CoFi using a particle filter\n",
    "\n",
    "We directly define the experiments that we will run."
   ]
  },
  {
   "cell_type": "code",
   "execution_count": null,
   "metadata": {},
   "outputs": [],
   "source": [
    "def run_experiment_pf1(\n",
    "    data: ndarray,\n",
    "    seed_value: int = 2024,\n",
    "    constitutional_trust: float = 0.8,\n",
    "    interpolator=None,\n",
    "    full_inference: bool = False,\n",
    "    use_constitution: bool = True,\n",
    ") -> pd.DataFrame:\n",
    "    def create_initial_particles(N: int) -> ndarray:\n",
    "        return np.stack(\n",
    "            [\n",
    "                uniform(loc=-width / 2, scale=width).rvs(N),\n",
    "                uniform(loc=-height / 2, scale=height).rvs(N),\n",
    "                uniform(loc=0, scale=2 * pi).rvs(N),\n",
    "                norm(loc=5, scale=3).rvs(N),\n",
    "                # norm(loc=0, scale=typical_ship_speed).rvs(N),\n",
    "                # norm(loc=0, scale=typical_ship_speed).rvs(N),\n",
    "            ]\n",
    "        ).T\n",
    "\n",
    "    def predict(particles, dt=1.0):\n",
    "        \"\"\"move according to control input u (heading change, velocity)\n",
    "        with noise Q (std heading change, std velocity)`\"\"\"\n",
    "\n",
    "        particles = particles.copy()\n",
    "\n",
    "        N = len(particles)\n",
    "\n",
    "        # noise = standard_normal(N) * std[1]\n",
    "        # particles[:, [0, 1]] += particles[:, [2, 3]] * dt + noise\n",
    "\n",
    "        particles[:, 2] += standard_normal(N) * 0.05\n",
    "        particles[:, 2] %= 2 * pi\n",
    "\n",
    "        particles[:, 3] += standard_normal(N) * 0.3\n",
    "\n",
    "        dist = particles[:, 3] * dt  # + (standard_normal(N) * std)\n",
    "\n",
    "        # TODO: possibly also add noise to the heading\n",
    "        particles[:, 0] += np.cos(particles[:, 2]) * dist\n",
    "        particles[:, 1] += np.sin(particles[:, 2]) * dist\n",
    "\n",
    "        return particles\n",
    "\n",
    "    def update(\n",
    "        particles,\n",
    "        weights,\n",
    "        z,\n",
    "        R,\n",
    "        use_constitution: bool = use_constitution,\n",
    "        constitutional_trust: float = constitutional_trust,\n",
    "    ):\n",
    "        weights = weights.copy()\n",
    "\n",
    "        positions = particles[:, :2]\n",
    "        distance = np.linalg.norm(positions - z, axis=1)\n",
    "\n",
    "        # Evaluate and RBF kernel\n",
    "        weights *= np.exp(-(distance**2) / (2 * R**2))\n",
    "\n",
    "        if use_constitution:\n",
    "            constitution = interpolator(positions)[:, 0]\n",
    "            weights *= constitutional_trust * constitution + (1 - constitutional_trust)\n",
    "\n",
    "        weights += 1.0e-300  # avoid round-off to zero\n",
    "        weights /= sum(weights)  # normalize\n",
    "\n",
    "        return weights\n",
    "\n",
    "    def estimate(particles, weights):\n",
    "        \"\"\"returns mean and variance of the weighted particles\"\"\"\n",
    "\n",
    "        mean = np.average(particles, weights=weights, axis=0)\n",
    "        var = np.average((particles - mean) ** 2, weights=weights, axis=0)\n",
    "        return mean, var\n",
    "\n",
    "    def neff(weights):\n",
    "        return 1.0 / np.sum(np.square(weights))\n",
    "\n",
    "    def resample_from_index(particles, weights, indexes):\n",
    "        particles[:] = particles[indexes]\n",
    "        weights.resize(len(particles))\n",
    "        weights.fill(1.0 / len(weights))\n",
    "\n",
    "    def run_pf1(\n",
    "        N,\n",
    "        data,\n",
    "        sensor_std_err=5000,\n",
    "        do_plot=False,\n",
    "        plot_particles=False,\n",
    "    ):\n",
    "        if do_plot:\n",
    "            plt.figure()\n",
    "\n",
    "        # create particles\n",
    "        particles = create_initial_particles(N)\n",
    "        particles[:, 0] = norm(loc=data[0, 0], scale=1000).rvs(N)\n",
    "        particles[:, 1] = norm(loc=data[0, 1], scale=1000).rvs(N)\n",
    "\n",
    "        # create weights\n",
    "        weights = np.ones(N) / N\n",
    "\n",
    "        if do_plot and plot_particles:\n",
    "            alpha = 0.20\n",
    "            if N > 5000:\n",
    "                alpha *= np.sqrt(5000) / np.sqrt(N)\n",
    "            plt.scatter(particles[:, 0], particles[:, 1], alpha=alpha, color=\"g\")\n",
    "\n",
    "        weights_trace = []\n",
    "        particle_trace = []\n",
    "        xs = []\n",
    "        for i, obs in enumerate(data):\n",
    "            # move\n",
    "            particles = predict(particles, dt=obs[4])\n",
    "\n",
    "            # incorporate measurements\n",
    "            weights = update(particles, weights, z=obs[:2], R=sensor_std_err)\n",
    "\n",
    "            # resample if too few effective particles\n",
    "            if neff(weights) < N / 2:\n",
    "                indexes = systematic_resample(weights)\n",
    "                resample_from_index(particles, weights, indexes)\n",
    "                assert np.allclose(weights, 1 / N)\n",
    "            mu, var = estimate(particles, weights)\n",
    "            xs.append(mu)\n",
    "\n",
    "            weights_trace.append(weights.copy())\n",
    "            particle_trace.append(particles.copy())\n",
    "\n",
    "            if do_plot:\n",
    "                if plot_particles:\n",
    "                    plt.scatter(\n",
    "                        particles[:, 0], particles[:, 1], color=\"k\", marker=\",\", s=0.5, alpha=0.2\n",
    "                    )\n",
    "                p1 = plt.scatter(obs[0], obs[1], marker=\"x\", color=\"r\")\n",
    "                p2 = plt.scatter(mu[0], mu[1], marker=\"s\", color=\"b\")\n",
    "\n",
    "            # print(f\"Step {i+1}/{len(data)}\")\n",
    "\n",
    "        xs = np.array(xs)\n",
    "        # plt.plot(xs[:, 0], xs[:, 1])\n",
    "        if do_plot:\n",
    "            plt.legend([p1, p2], [\"Actual\", \"PF\"], loc=4, numpoints=1)\n",
    "        # plt.xlim(-width / 2, width / 2)\n",
    "        # plt.ylim(-height / 2, height / 2)\n",
    "\n",
    "        pos_error = np.linalg.norm(mu[:2] - data[:, :2], axis=1)\n",
    "        # print(\"error, variance: \", pos_error.mean(), pos_error.var())\n",
    "        all_error = np.linalg.norm(xs[:, :] - data[:, :4], axis=1)\n",
    "        # print(\"all error, variance: \", all_error.mean(), all_error.var())\n",
    "\n",
    "        if do_plot:\n",
    "            plt.show()\n",
    "\n",
    "        return {\n",
    "            \"particles\": array(particle_trace),\n",
    "            \"weights\": array(weights_trace),\n",
    "            \"estimates\": xs,\n",
    "            \"pos_error\": pos_error,\n",
    "            \"pos_error_mean\": pos_error.mean(),\n",
    "            \"all_error\": all_error,\n",
    "            \"all_error_mean\": all_error.mean(),\n",
    "            \"truth\": data,\n",
    "        }\n",
    "\n",
    "    data.loc[:, \"RelativeTime\"] = (\n",
    "        data[\"BaseDateTime\"] - data[\"BaseDateTime\"].iloc[0]\n",
    "    ).dt.total_seconds()\n",
    "    assert data[\"RelativeTime\"].is_monotonic_increasing\n",
    "\n",
    "    ground_truth = stack(\n",
    "        (data[\"East\"], data[\"North\"], deg2rad(data[\"COG\"]), data[\"SOG\"], data[\"RelativeTime\"])\n",
    "    ).T\n",
    "\n",
    "    ground_truth[0, 4] = 0\n",
    "    ground_truth[1:, 4] = ground_truth[1:, 4] - ground_truth[:-1, 4]\n",
    "\n",
    "    seed(seed_value)\n",
    "    return run_pf1(N=2000, data=ground_truth, plot_particles=True)\n"
   ]
  },
  {
   "cell_type": "code",
   "execution_count": null,
   "metadata": {},
   "outputs": [],
   "source": [
    "relevant_MMSIs"
   ]
  },
  {
   "cell_type": "code",
   "execution_count": null,
   "metadata": {},
   "outputs": [],
   "source": [
    "results = []\n",
    "\n",
    "# df_for_type = df[df[\"VesselTypeName\"].isin(relevant_vessel_types)]\n",
    "df_for_type = df[df[\"VesselTypeName\"].isin(landscapes.keys())]\n",
    "df_for_type = df_for_type[df_for_type[\"MMSI\"].isin(relevant_MMSIs)]\n",
    "\n",
    "for tau in np.arange(0.0, 1.1, 0.1):\n",
    "    for mmsi in relevant_MMSIs:\n",
    "        for seed_value in [2024]:\n",
    "            data = df_for_type[df_for_type[\"MMSI\"] == mmsi].copy()\n",
    "            if data.empty:\n",
    "                continue\n",
    "            vessel_type = data[\"VesselTypeName\"].iloc[0]\n",
    "\n",
    "            interpolator = interpolators[vessel_type]\n",
    "            experiment_result = run_experiment_pf1(\n",
    "                data,\n",
    "                constitutional_trust=tau,\n",
    "                seed_value=seed_value,\n",
    "                interpolator=interpolator,\n",
    "            )\n",
    "            results.append(\n",
    "                dict(\n",
    "                    mmsi=mmsi,\n",
    "                    type=vessel_type,\n",
    "                    tau=tau,\n",
    "                    seed=seed_value,\n",
    "                    **experiment_result,\n",
    "                )\n",
    "            )\n",
    "            print(\n",
    "                f\"Finished {mmsi} (progress: {len(results)}/{len(df_for_type['MMSI'].unique()) * 11})\"\n",
    "            )\n",
    "\n",
    "df_results = pd.DataFrame(results)\n",
    "df_results"
   ]
  },
  {
   "cell_type": "code",
   "execution_count": null,
   "metadata": {},
   "outputs": [],
   "source": [
    "# before = monotonic()\n",
    "# run_experiment_pf1(\n",
    "#     data[:20],\n",
    "#     constitutional_trust=0.5,\n",
    "#     seed_value=2024,\n",
    "#     interpolator=interpolator,\n",
    "#     full_inference=False,\n",
    "#     use_constitution=True,\n",
    "# )\n",
    "# after = monotonic()\n",
    "# after - before"
   ]
  },
  {
   "cell_type": "code",
   "execution_count": null,
   "metadata": {},
   "outputs": [],
   "source": [
    "df_results.to_pickle(\"res-all-taus.pkl\")"
   ]
  },
  {
   "cell_type": "code",
   "execution_count": null,
   "metadata": {},
   "outputs": [],
   "source": [
    "df_results = pd.read_pickle(\"res-all-taus.pkl\")"
   ]
  },
  {
   "cell_type": "code",
   "execution_count": null,
   "metadata": {},
   "outputs": [],
   "source": [
    "df_results[\"type\"].unique()"
   ]
  },
  {
   "cell_type": "code",
   "execution_count": null,
   "metadata": {},
   "outputs": [],
   "source": [
    "df_results"
   ]
  },
  {
   "cell_type": "code",
   "execution_count": null,
   "metadata": {},
   "outputs": [],
   "source": [
    "df_results[df_results[\"tau\"] != 0.0][\"pos_error_mean\"]"
   ]
  },
  {
   "cell_type": "code",
   "execution_count": null,
   "metadata": {},
   "outputs": [],
   "source": [
    "# with_benefit = df_results.groupby(\"mmsi\").apply(\n",
    "#     lambda group: group.assign(\n",
    "#         benefit=(\n",
    "#             group[group[\"tau\"] != 0.0][\"pos_error_mean\"].min()\n",
    "#             - group[group[\"tau\"] == 0.0][\"pos_error_mean\"].item()\n",
    "#         )\n",
    "#     ),\n",
    "#     include_groups=False,\n",
    "# )"
   ]
  },
  {
   "cell_type": "code",
   "execution_count": null,
   "metadata": {},
   "outputs": [],
   "source": [
    "with_benefit = df_results.groupby(\"mmsi\").apply(\n",
    "    lambda group: group.copy()[\n",
    "        (group[\"tau\"] == 0.0)\n",
    "        | (group[\"pos_error_mean\"] == group[group[\"tau\"] != 0.0][\"pos_error_mean\"].min())\n",
    "    ]\n",
    "    .assign(\n",
    "        benefit=(\n",
    "            group[group[\"tau\"] != 0.0][\"pos_error_mean\"].min()\n",
    "            - group[group[\"tau\"] == 0.0][\"pos_error_mean\"].item()\n",
    "        )\n",
    "    )\n",
    "    .sort_values(\"tau\"),\n",
    "    include_groups=False,\n",
    ")"
   ]
  },
  {
   "cell_type": "code",
   "execution_count": null,
   "metadata": {},
   "outputs": [],
   "source": [
    "# with_benefit = with_benefit[\n",
    "#     (with_benefit[\"benefit\"] > max(with_benefit[\"benefit\"].quantile(0.6).item(), 0))\n",
    "# ]\n",
    "with_benefit"
   ]
  },
  {
   "cell_type": "code",
   "execution_count": null,
   "metadata": {},
   "outputs": [],
   "source": [
    "results = with_benefit.loc[[with_benefit.index.get_level_values(0)[::2][10]]]\n",
    "results"
   ]
  },
  {
   "cell_type": "code",
   "execution_count": null,
   "metadata": {},
   "outputs": [],
   "source": [
    "result_pf, result_cofi = results.iloc[0], results.iloc[1]\n",
    "result = result_cofi"
   ]
  },
  {
   "cell_type": "code",
   "execution_count": null,
   "metadata": {},
   "outputs": [],
   "source": [
    "fig, axes = plt.subplots(2, 2, figsize=(10, 10))\n",
    "\n",
    "columns = [\"x\", \"y\", \"d_phi\", \"d_r\"]\n",
    "\n",
    "# time_start = 0\n",
    "# time_end = 400\n",
    "\n",
    "for i, ax in enumerate(axes.flatten()):\n",
    "    if i >= result[\"particles\"].shape[2]:\n",
    "        break\n",
    "    ax.plot(result[\"particles\"][:, :, i], alpha=0.2)\n",
    "\n",
    "    if i < result_pf[\"estimates\"].shape[1]:\n",
    "        ax.plot(result_pf[\"estimates\"][:, i], c=\"black\", lw=2, label=\"Mean_plain\")\n",
    "    if i < result_cofi[\"estimates\"].shape[1]:\n",
    "        ax.plot(result_cofi[\"estimates\"][:, i], c=\"black\", lw=2, label=\"Mean_const\")\n",
    "\n",
    "    if i < result[\"truth\"].shape[1]:\n",
    "        ax.plot(result[\"truth\"][:, i], c=\"green\", lw=2, label=\"Ground Truth\")\n",
    "    ax.set_title(columns[i])\n",
    "\n",
    "    # ax.axvline(result[\"deviate_from\"], c=\"black\", ls=\"--\", lw=1)\n",
    "\n",
    "    if i == 0:\n",
    "        ax.set_ylim(-width, width)\n",
    "    if i == 1:\n",
    "        ax.set_ylim(-height, height)\n",
    "\n",
    "    if i == 0:\n",
    "        ax.legend()\n",
    "\n",
    "axes[1, 0].axhline(2 * pi, c=\"black\", ls=\"--\", lw=1)\n",
    "\n",
    "plt.tight_layout()\n",
    "plt.show()\n",
    "plt.clf()"
   ]
  },
  {
   "cell_type": "code",
   "execution_count": null,
   "metadata": {},
   "outputs": [],
   "source": [
    "plt.figure(figsize=(6, 4))\n",
    "bg = landscape.scatter(s=2, alpha=0.5)\n",
    "plot_trajectories(result_pf[\"truth\"][:, :2], label=\"True trajectory\")\n",
    "plot_trajectories(result_pf[\"estimates\"][:, :2], label=\"Estimated trajectory (PF)\")\n",
    "plot_trajectories(result_cofi[\"estimates\"][:, :2], label=\"Estimated trajectory (CoFi)\")\n",
    "\n",
    "# show_n_particles = 10\n",
    "# plot_trajectories(trace_all_particles[:, :show_n_particles, :2].swapaxes(1, 0), label=None)\n",
    "\n",
    "scale = 1.5\n",
    "# plt.gca().set_xlim(-width / 2 * scale, width / 2 * scale)\n",
    "# plt.gca().set_ylim(-height / 2 * scale, height / 2 * scale)\n",
    "\n",
    "# plt.gca().set_xlim(-15_000, -2_000)\n",
    "# plt.gca().set_ylim(8_000, 18_000)\n",
    "\n",
    "all_coords = np.concatenate(\n",
    "    [result_pf[\"truth\"][:, :2], result_pf[\"estimates\"][:, :2], result_cofi[\"estimates\"][:, :2]]\n",
    ")\n",
    "plt.gca().set_xlim(all_coords[:, 0].min(), all_coords[:, 0].max())\n",
    "plt.gca().set_ylim(all_coords[:, 1].min(), all_coords[:, 1].max())\n",
    "\n",
    "# Move legend to the right of the plot\n",
    "plt.legend()\n",
    "move_legend(plt.gca(), loc=\"center left\", bbox_to_anchor=(1.3, 0.5))\n",
    "\n",
    "plt.colorbar(bg)\n",
    "pass"
   ]
  },
  {
   "cell_type": "markdown",
   "metadata": {},
   "source": [
    "### Visualize using Kepler.gl"
   ]
  },
  {
   "cell_type": "code",
   "execution_count": null,
   "metadata": {},
   "outputs": [],
   "source": [
    "def cartesian_to_polar(coords: ndarray) -> ndarray:\n",
    "    collection = CartesianCollection(origin=origin, dimensions=1)\n",
    "    collection.append_with_default(coords, np.nan)\n",
    "    return collection.to_polar().coordinates()\n",
    "\n",
    "\n",
    "def make_line_string(cartesian_coords: ndarray) -> str:\n",
    "    return json.dumps(\n",
    "        {\n",
    "            \"type\": \"LineString\",\n",
    "            \"coordinates\": cartesian_to_polar(cartesian_coords).tolist(),\n",
    "        }\n",
    "    )\n",
    "\n",
    "\n",
    "start_date = \"2023-08-01 0:0:00\"\n",
    "date_format = \"%Y-%m-%d %X\"\n",
    "\n",
    "\n",
    "def make_route_points(cartesian_coords: ndarray) -> str:\n",
    "    \"\"\"\n",
    "\n",
    "    Args:\n",
    "        cartesian_coords: Shape (T, 2)\n",
    "    \"\"\"\n",
    "    return json.dumps(\n",
    "        {\n",
    "            \"type\": \"FeatureCollection\",\n",
    "            \"features\": [\n",
    "                {\n",
    "                    \"type\": \"Feature\",\n",
    "                    \"geometry\": {\n",
    "                        \"type\": \"Point\",\n",
    "                        \"coordinates\": coord.tolist(),\n",
    "                    },\n",
    "                    \"properties\": {\n",
    "                        \"timestamp\": time,\n",
    "                    },\n",
    "                }\n",
    "                for coord, time in zip(\n",
    "                    cartesian_to_polar(cartesian_coords),\n",
    "                    pd.date_range(start=start_date, periods=cartesian_coords.shape[0]).strftime(\n",
    "                        date_format\n",
    "                    ),\n",
    "                )\n",
    "            ],\n",
    "        }\n",
    "    )\n",
    "\n",
    "\n",
    "def make_particles(cartesian_coords: ndarray, weights: ndarray) -> str:\n",
    "    \"\"\"\n",
    "\n",
    "    Args:\n",
    "        cartesian_coords: Shape (T, N, 2)\n",
    "        weights: Shape (T, N)\n",
    "    \"\"\"\n",
    "    return json.dumps(\n",
    "        {\n",
    "            \"type\": \"FeatureCollection\",\n",
    "            \"features\": [\n",
    "                {\n",
    "                    \"type\": \"Feature\",\n",
    "                    \"geometry\": {\n",
    "                        \"type\": \"Point\",\n",
    "                        \"coordinates\": coord.tolist(),\n",
    "                    },\n",
    "                    \"properties\": {\n",
    "                        \"timestamp\": time,\n",
    "                        \"weight\": weight,\n",
    "                    },\n",
    "                }\n",
    "                for coords_t, weights_t, time in zip(\n",
    "                    cartesian_coords,\n",
    "                    weights,\n",
    "                    pd.date_range(start=start_date, periods=cartesian_coords.shape[0]).strftime(\n",
    "                        date_format\n",
    "                    ),\n",
    "                )\n",
    "                for coord, weight in zip(\n",
    "                    cartesian_to_polar(coords_t),\n",
    "                    weights_t.tolist(),\n",
    "                )\n",
    "            ],\n",
    "        }\n",
    "    )"
   ]
  },
  {
   "cell_type": "code",
   "execution_count": null,
   "metadata": {},
   "outputs": [],
   "source": [
    "subsample_particles = 4\n",
    "map = KeplerGl(\n",
    "    data={\n",
    "        \"True Trajectory Track\": make_line_string(result_pf[\"truth\"][:, :2]),\n",
    "        \"True Trajectory\": make_route_points(result_pf[\"truth\"][:, :2]),\n",
    "        #\n",
    "        \"Estimated Trajectory (CoFi) Track\": make_line_string(result_cofi[\"estimates\"][:, :2]),\n",
    "        \"Estimated Trajectory (CoFi)\": make_route_points(result_cofi[\"estimates\"][:, :2]),\n",
    "        #\n",
    "        \"Estimated Trajectory (PF) Track\": make_line_string(result_pf[\"estimates\"][:, :2]),\n",
    "        \"Estimated Trajectory (PF)\": make_route_points(result_pf[\"estimates\"][:, :2]),\n",
    "        #\n",
    "        \"Particles (PF)\": make_particles(\n",
    "            result_pf[\"particles\"][:, :subsample_particles, :2],\n",
    "            weights=result_pf[\"weights\"][:, :subsample_particles],\n",
    "        ),\n",
    "        \"Particles (CoFi)\": make_particles(\n",
    "            result_cofi[\"particles\"][:, :subsample_particles, :2],\n",
    "            weights=result_cofi[\"weights\"][:, :subsample_particles],\n",
    "        ),\n",
    "    },\n",
    "    config={\n",
    "        \"version\": \"v1\",\n",
    "        \"config\": {\n",
    "            \"mapState\": {\n",
    "                \"latitude\": cartesian_to_polar(all_coords)[:, 1].mean(),\n",
    "                \"longitude\": cartesian_to_polar(all_coords)[:, 0].mean(),\n",
    "                \"zoom\": 11,\n",
    "            },\n",
    "            \"visState\": {\n",
    "                \"filters\": [\n",
    "                    {\n",
    "                        \"dataId\": [data_field],\n",
    "                        \"id\": f\"94q7ipgwi-{data_field}\",\n",
    "                        \"name\": [\"timestamp\"],\n",
    "                        \"type\": \"DateTime\",\n",
    "                        \"yAxis\": None,\n",
    "                        \"speed\": 0.2,\n",
    "                    }\n",
    "                    for data_field in [\n",
    "                        \"True Trajectory\",\n",
    "                        \"Estimated Trajectory (CoFi)\",\n",
    "                        \"Estimated Trajectory (PF)\",\n",
    "                        \"Particles (PF)\",\n",
    "                        \"Particles (CoFi)\",\n",
    "                    ]\n",
    "                ]\n",
    "            },\n",
    "        },\n",
    "    },\n",
    ")\n",
    "map.save_to_html(file_name=\"debug_keplergl.html\")\n",
    "map"
   ]
  },
  {
   "cell_type": "markdown",
   "metadata": {},
   "source": [
    "You can now invoke `show-html.py` to serve the HTML file."
   ]
  },
  {
   "cell_type": "markdown",
   "metadata": {},
   "source": [
    "### Visualize the results with matplotlib"
   ]
  },
  {
   "cell_type": "code",
   "execution_count": null,
   "metadata": {},
   "outputs": [],
   "source": [
    "res_ = []\n",
    "for vessel_type in interpolators:\n",
    "    df_ = df[df[\"VesselTypeName\"] == vessel_type]\n",
    "    points = df_[[\"East\", \"North\"]].values\n",
    "    c = interpolators[vessel_type](points)\n",
    "    for value in c:\n",
    "        res_.append(\n",
    "            {\n",
    "                \"Vessel Type\": vessel_type,\n",
    "                \"Constitutional\": value.item(),\n",
    "            }\n",
    "        )\n",
    "\n",
    "res_df = pd.DataFrame(res_)\n",
    "res_df"
   ]
  },
  {
   "cell_type": "code",
   "execution_count": null,
   "metadata": {},
   "outputs": [],
   "source": [
    "sns.barplot(\n",
    "    data=res_df.replace({\"Vessel Type\": {\"Search and rescue vessels\": \"SAR\"}}),\n",
    "    x=\"Vessel Type\",\n",
    "    y=\"Constitutional\",\n",
    "    hue=\"Vessel Type\",\n",
    "    order=[\"Cargo\", \"Towing\", \"SAR\"],\n",
    "    hue_order=[\"Cargo\", \"Towing\", \"SAR\"],\n",
    ")\n",
    "sns.despine()\n",
    "plt.ylabel(r\"Average $P(c_t | \\mathbf{x}_t, \\mathbf{z}_t)$\")\n",
    "plt.xlabel(\"\")\n",
    "plt.ylim(0, 1)\n",
    "plot_put = output_folder / \"plots\"\n",
    "plot_put.mkdir(exist_ok=True)\n",
    "plt.savefig(plot_put / \"ais-constitution.pdf\", bbox_inches=\"tight\")\n",
    "pass"
   ]
  },
  {
   "cell_type": "code",
   "execution_count": null,
   "metadata": {},
   "outputs": [],
   "source": [
    "df_results.head()"
   ]
  },
  {
   "cell_type": "code",
   "execution_count": null,
   "metadata": {},
   "outputs": [],
   "source": [
    "df_results_export = df_results.copy()[\n",
    "    [\"mmsi\", \"type\", \"tau\", \"seed\", \"pos_error_mean\", \"all_error_mean\"]\n",
    "]\n",
    "df_results_export.to_csv(output_folder / \"res-all-taus.csv\", index=False)\n",
    "\n",
    "df_ = df_results_export.rename(\n",
    "    columns={\n",
    "        \"type\": \"Vessel Type\",\n",
    "        \"tau\": r\"$\\tau$\",\n",
    "        \"pos_error_mean\": \"Relative Position Error\",\n",
    "    }\n",
    ")\n",
    "df_ = df_[df_[\"Relative Position Error\"] < 100_000]\n",
    "reference_error = df_[(df_[\"Vessel Type\"] == \"Cargo\") & (df_[r\"$\\tau$\"] == 0.0)][\n",
    "    \"Relative Position Error\"\n",
    "].mean()\n",
    "df_[\"Relative Position Error\"] /= reference_error\n",
    "sns.barplot(\n",
    "    x=r\"$\\tau$\",\n",
    "    y=\"Relative Position Error\",\n",
    "    hue=\"Vessel Type\",\n",
    "    data=df_[df_[r\"$\\tau$\"].isin([0.0, 0.5, 1.0])],\n",
    "    hue_order=[\"Cargo\", \"Towing\", \"Search and rescue vessels\"],\n",
    ")\n",
    "\n",
    "# move the legend outside\n",
    "sns.move_legend(plt.gca(), \"upper left\", bbox_to_anchor=(1, 1))\n",
    "\n",
    "sns.despine()\n",
    "\n",
    "plt.savefig(plot_put / \"relative_position_error.pdf\", bbox_inches=\"tight\")\n",
    "pass"
   ]
  },
  {
   "cell_type": "code",
   "execution_count": null,
   "metadata": {},
   "outputs": [],
   "source": [
    "sns.lineplot(\n",
    "    x=r\"$\\tau$\",\n",
    "    y=\"Relative Position Error\",\n",
    "    hue=\"Vessel Type\",\n",
    "    data=df_,\n",
    ")"
   ]
  },
  {
   "cell_type": "code",
   "execution_count": null,
   "metadata": {},
   "outputs": [],
   "source": [
    "# sns.barplot(x=\"tau\", y=\"all_error_mean\", hue=\"type\", data=df_results)\n",
    "df_rel = df_.copy()\n",
    "# Divide the error by the reference error for each Vessel Type @ tau = 0\n",
    "df_rel[\"Relative Position Error\"] = (\n",
    "    # TODO why is this odd?\n",
    "    df_rel.groupby(\"Vessel Type\")\n",
    "    .apply(\n",
    "        lambda x: x[\"Relative Position Error\"]\n",
    "        / x[x[r\"$\\tau$\"] == 0][\"Relative Position Error\"].mean(),\n",
    "        include_groups=False,\n",
    "    )\n",
    "    .reset_index()[\"Relative Position Error\"]\n",
    ")\n",
    "sns.lineplot(\n",
    "    x=r\"$\\tau$\",\n",
    "    y=\"Relative Position Error\",\n",
    "    hue=\"Vessel Type\",\n",
    "    data=df_rel,\n",
    ")\n",
    "sns.despine()\n",
    "plt.xlim(0, 1)\n",
    "sns.move_legend(plt.gca(), \"upper left\", bbox_to_anchor=(1, 1))\n",
    "pass"
   ]
  },
  {
   "cell_type": "code",
   "execution_count": null,
   "metadata": {},
   "outputs": [],
   "source": [
    "sns.barplot(x=\"tau\", y=\"pos_error_mean\", hue=\"type\", data=df_results)\n",
    "plt.ylim(None, 30_000)"
   ]
  },
  {
   "cell_type": "code",
   "execution_count": null,
   "metadata": {},
   "outputs": [],
   "source": [
    "# Groub by MMSI and trhen take the tau with the lowest error each\n",
    "# df_results[[\"mmsi\", \"pos_error_mean\"]].groupby(\"mmsi\").apply(\n",
    "#     lambda x: x.sort_values(\"tau\").loc[x[\"pos_error_mean\"].idxmin()]\n",
    "# )\n",
    "res = []\n",
    "for mmis in df_results[\"mmsi\"].unique():\n",
    "    df_ = df_results[df_results[\"mmsi\"] == mmis]\n",
    "    # sort by tau\n",
    "    df_ = df_.sort_values(\"pos_error_mean\")\n",
    "    res.append((df_[\"type\"].iloc[0], df_[\"tau\"].iloc[0]))\n",
    "\n",
    "res = pd.DataFrame(res, columns=[\"Vessel Type\", r\"$\\tau$\"])\n",
    "# Rname Search and rescue vessels to SAR\n",
    "res[\"Vessel Type\"] = res[\"Vessel Type\"].replace(\"Search and rescue vessels\", \"SAR\")\n",
    "res"
   ]
  },
  {
   "cell_type": "code",
   "execution_count": null,
   "metadata": {},
   "outputs": [],
   "source": [
    "r_ = res.copy()\n",
    "\n",
    "# r_[\"Vessel Type\"] = \"All\"\n",
    "# res_ = pd.concat([res, r_], axis=0)\n",
    "# res_.sort_values(\"Vessel Type\", inplace=True)\n",
    "\n",
    "sns.histplot(\n",
    "    r_,\n",
    "    x=r\"$\\tau$\",\n",
    "    hue=\"Vessel Type\",\n",
    "    multiple=\"stack\",\n",
    "    bins=10,\n",
    "    stat=\"percent\",\n",
    "    shrink=0.75,\n",
    "    # palette=\"colorblind\",\n",
    ")\n",
    "\n",
    "plt.ylabel(\"\")\n",
    "plt.yticks(plt.yticks()[0], [f\"{i.get_text()}%\" for i in plt.yticks()[1]])\n",
    "sns.despine()\n",
    "\n",
    "# Fix the placmenet of the x-axis\n",
    "plt.xticks(np.arange(0, 1.1, 0.1) + 0.05, [f\"{i:.1f}\" for i in np.arange(0, 1.1, 0.1)])\n",
    "\n",
    "plt.savefig(Path(\".\") / \"plots\" / \"tau-distribution.pdf\", bbox_inches=\"tight\")\n",
    "\n",
    "pass"
   ]
  },
  {
   "cell_type": "code",
   "execution_count": null,
   "metadata": {},
   "outputs": [],
   "source": [
    "sns.displot(\n",
    "    df_results,\n",
    "    x=\"pos_error_mean\",  # or \"all_error\"\n",
    "    col=\"tau\",\n",
    "    col_wrap=3,\n",
    "    facet_kws=dict(margin_titles=True),\n",
    ")"
   ]
  },
  {
   "cell_type": "markdown",
   "metadata": {},
   "source": [
    "## Older stuff"
   ]
  },
  {
   "cell_type": "code",
   "execution_count": null,
   "metadata": {},
   "outputs": [],
   "source": [
    "results = []\n",
    "\n",
    "df_for_type = df[df[\"VesselTypeName\"].isin([\"Cargo\", \"Cargo hazardous\"])]\n",
    "\n",
    "for tau in [0.0, 0.2, 0.4, 0.6, 0.8, 1.0]:\n",
    "    for mmsi in relevant_MMSIs:\n",
    "        for seed_value in [2024]:\n",
    "            data = df_for_type[df_for_type[\"MMSI\"] == mmsi].copy()\n",
    "            if data.empty:\n",
    "                continue\n",
    "            vessel_type = data[\"VesselTypeName\"].iloc[0]\n",
    "            experiment_result = run_experiment(\n",
    "                data, constitutional_trust=tau, seed_value=seed_value, verbose=False\n",
    "            )\n",
    "            results.append(\n",
    "                dict(\n",
    "                    mmsi=mmsi,\n",
    "                    type=vessel_type,\n",
    "                    tau=tau,\n",
    "                    seed=seed_value,\n",
    "                    mean_mean=np.mean(experiment_result[\"position_accuracy_mean\"]),\n",
    "                    mean_std=np.std(experiment_result[\"position_accuracy_mean\"]),\n",
    "                    map_mean=np.mean(experiment_result[\"position_accuracy_map\"]),\n",
    "                    map_std=np.std(experiment_result[\"position_accuracy_map\"]),\n",
    "                    **experiment_result,\n",
    "                )\n",
    "            )\n",
    "            print(f\"Finished {mmsi} (progress: {len(results)}/{len(df_for_type['MMSI'].unique())})\")\n",
    "\n",
    "df_results = pd.DataFrame(results)\n",
    "df_results"
   ]
  },
  {
   "cell_type": "code",
   "execution_count": null,
   "metadata": {},
   "outputs": [],
   "source": [
    "sns.displot(\n",
    "    df_results,\n",
    "    x=\"mean_mean\",\n",
    "    col=\"tau\",\n",
    "    col_wrap=3,\n",
    "    facet_kws=dict(margin_titles=True),\n",
    ")"
   ]
  },
  {
   "cell_type": "code",
   "execution_count": null,
   "metadata": {},
   "outputs": [],
   "source": [
    "g = sns.catplot(\n",
    "    data=df_results,\n",
    "    kind=\"bar\",\n",
    "    x=\"tau\",\n",
    "    y=\"mean_mean\",\n",
    "    errorbar=\"sd\",\n",
    "    alpha=0.6,\n",
    "    height=6,\n",
    ")"
   ]
  },
  {
   "cell_type": "code",
   "execution_count": null,
   "metadata": {},
   "outputs": [],
   "source": [
    "# Visualize the weights of the particles\n",
    "plt.plot(result[\"trace_weights_unnormalized\"])\n",
    "pass"
   ]
  },
  {
   "cell_type": "code",
   "execution_count": null,
   "metadata": {},
   "outputs": [],
   "source": [
    "plt.plot(np.diff(result[\"trace_time\"]) / 60)\n",
    "pass"
   ]
  },
  {
   "cell_type": "code",
   "execution_count": null,
   "metadata": {},
   "outputs": [],
   "source": [
    "# plt.hist(trace_all_particles[20, :, 2].ravel(), bins=100)\n",
    "# pass"
   ]
  },
  {
   "cell_type": "code",
   "execution_count": null,
   "metadata": {},
   "outputs": [],
   "source": [
    "plt.figure(figsize=(6, 4))\n",
    "landscape.scatter(s=0.1, alpha=0.5)\n",
    "plot_trajectories(result[\"ground_truth\"], label=\"True trajectory\")\n",
    "plot_trajectories(result[\"trace_state\"][:, :2], label=\"Estimated trajectory\")\n",
    "\n",
    "# show_n_particles = 10\n",
    "# plot_trajectories(trace_all_particles[:, :show_n_particles, :2].swapaxes(1, 0), label=None)\n",
    "\n",
    "scale = 1.5\n",
    "plt.gca().set_xlim(-width / 2 * scale, width / 2 * scale)\n",
    "plt.gca().set_ylim(-height / 2 * scale, height / 2 * scale)\n",
    "\n",
    "plt.colorbar()\n",
    "plt.legend()\n",
    "pass"
   ]
  },
  {
   "cell_type": "code",
   "execution_count": null,
   "metadata": {},
   "outputs": [],
   "source": [
    "plt.figure(figsize=(6, 4))\n",
    "plt.gca().set_aspect(\"equal\")\n",
    "landscape.scatter(s=0.1, alpha=0.2)\n",
    "# plt.scatter(*result[\"trace_all_particles\"][:, :, :2][50, ...].T, c=\"r\", s=1)\n",
    "plt.scatter(*debug_df[[\"East\", \"North\"]].values.T, c=\"r\", s=1)\n",
    "plt.xlim(-width / 2 * scale, width / 2 * scale)\n",
    "plt.ylim(-height / 2 * scale, height / 2 * scale)\n",
    "\n",
    "pass"
   ]
  },
  {
   "cell_type": "code",
   "execution_count": null,
   "metadata": {},
   "outputs": [],
   "source": [
    "index = 30\n",
    "\n",
    "plt.gca().set_aspect(\"equal\")\n",
    "\n",
    "# draw a box around the observed frame\n",
    "plt.plot(\n",
    "    [-width / 2, width / 2, width / 2, -width / 2, -width / 2],\n",
    "    [-height / 2, -height / 2, height / 2, height / 2, -height / 2],\n",
    "    \"k-\",\n",
    "    alpha=0.3,\n",
    "    label=\"Frame\",\n",
    ")\n",
    "\n",
    "plot_trajectories(result[\"ground_truth\"], label=\"True trajectory\", color=\"k\", alpha=0.3)\n",
    "\n",
    "plt.hist2d(\n",
    "    *result[\"trace_all_particles\"][index, :, :2].T,\n",
    "    bins=50,\n",
    "    range=[[-width / 2 * scale, width / 2 * scale], [-height / 2 * scale, height / 2 * scale]],\n",
    "    cmap=\"Oranges\",\n",
    ")\n",
    "\n",
    "if index > 0:\n",
    "    # Plot the ship position and position estimate at that time point\n",
    "    plt.gca().plot(\n",
    "        *result[\"ground_truth\"][index - 1],\n",
    "        marker=ship_marker,\n",
    "        markersize=14,\n",
    "        label=\"True position\",\n",
    "        c=\"k\",\n",
    "        alpha=0.5,\n",
    "    )\n",
    "    plt.gca().plot(\n",
    "        *result[\"trace_state\"][index - 1, :2],\n",
    "        marker=ship_marker,\n",
    "        markersize=14,\n",
    "        label=\"Estimated position\",\n",
    "        c=\"b\",\n",
    "    )\n",
    "\n",
    "\n",
    "plt.legend(\n",
    "    loc=\"center left\",\n",
    "    bbox_to_anchor=(1, 0.5),\n",
    ")\n",
    "pass"
   ]
  },
  {
   "cell_type": "code",
   "execution_count": null,
   "metadata": {},
   "outputs": [],
   "source": [
    "res_starmap = pd.DataFrame(\n",
    "    [\n",
    "        dict(name=r\"StarMap ($100 \\times x 100$)\", time=640.4149391481187),\n",
    "        dict(name=r\"StarMap ($100 \\times x 100$)\", time=627.0258562378585),\n",
    "        dict(name=r\"StarMap ($100 \\times x 100$)\", time=624.6253640819341),\n",
    "        #\n",
    "        dict(name=r\"StarMap ($50 \\times 50$)\", time=495.63382973195985),\n",
    "        dict(name=r\"StarMap ($50 \\times 50$)\", time=487.28305474994704),\n",
    "        dict(name=r\"StarMap ($50 \\times 50$)\", time=487.8447328049224),\n",
    "    ]\n",
    ")\n",
    "res_perf = pd.DataFrame(\n",
    "    [\n",
    "        dict(name=\"Particle Filter\", time=0.03765651909634471 / 20),\n",
    "        dict(name=\"Particle Filter\", time=0.0383494570851326 / 20),\n",
    "        dict(name=\"Particle Filter\", time=0.03719700896181166 / 20),\n",
    "        #\n",
    "        dict(name=\"CoFi\", time=113.63170561008155 / 20),\n",
    "        dict(name=\"CoFi\", time=113.54428059794009 / 20),\n",
    "        dict(name=\"CoFi\", time=113.22225885814987 / 20),\n",
    "        #\n",
    "        dict(name=\"CoFi Precomputed\", time=0.051308222813531756 / 20),\n",
    "        dict(name=\"CoFi Precomputed\", time=0.04675357579253614 / 20),\n",
    "        dict(name=\"CoFi Precomputed\", time=0.05256968503817916 / 20),\n",
    "    ]\n",
    ")\n",
    "cocktail = pd.DataFrame(\n",
    "    [\n",
    "        dict(name=r\"StarMap ($100 \\times 100$)\", time=640.4149391481187),\n",
    "        dict(name=r\"StarMap ($100 \\times 100$)\", time=627.0258562378585),\n",
    "        dict(name=r\"StarMap ($100 \\times 100$)\", time=624.6253640819341),\n",
    "        #\n",
    "        dict(name=r\"StarMap ($50 \\times 50$)\", time=495.63382973195985),\n",
    "        dict(name=r\"StarMap ($50 \\times 50$)\", time=487.28305474994704),\n",
    "        dict(name=r\"StarMap ($50 \\times 50$)\", time=487.8447328049224),\n",
    "        #\n",
    "        dict(name=\"CoFi\\n10 iterations\", time=113.63170561008155 / 20 * 10),\n",
    "        dict(name=\"CoFi\\n10 iterations\", time=113.54428059794009 / 20 * 10),\n",
    "        dict(name=\"CoFi\\n10 iterations\", time=113.22225885814987 / 20 * 10),\n",
    "    ]\n",
    ")\n",
    "cocktail"
   ]
  },
  {
   "cell_type": "code",
   "execution_count": null,
   "metadata": {},
   "outputs": [],
   "source": [
    "sns.barplot(data=cocktail, x=\"name\", y=\"time\", hue=\"name\", palette=\"colorblind\")\n",
    "plt.xlabel(\"\")\n",
    "sns.despine()"
   ]
  },
  {
   "cell_type": "code",
   "execution_count": null,
   "metadata": {},
   "outputs": [],
   "source": []
  }
 ],
 "metadata": {
  "kernelspec": {
   "display_name": "Python 3",
   "language": "python",
   "name": "python3"
  },
  "language_info": {
   "codemirror_mode": {
    "name": "ipython",
    "version": 3
   },
   "file_extension": ".py",
   "mimetype": "text/x-python",
   "name": "python",
   "nbconvert_exporter": "python",
   "pygments_lexer": "ipython3",
   "version": "3.10.12"
  },
  "orig_nbformat": 4
 },
 "nbformat": 4,
 "nbformat_minor": 2
}
